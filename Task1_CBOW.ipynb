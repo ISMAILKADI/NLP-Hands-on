{
  "cells": [
    {
      "cell_type": "markdown",
      "metadata": {
        "id": "L4G-WdYBozAF"
      },
      "source": [
        "# Continuous Bag of Words (CBOW) Model"
      ]
    },
    {
      "cell_type": "markdown",
      "metadata": {
        "id": "RhS9KCVPpSy2"
      },
      "source": [
        "In this exam, we will create a CBOW model using a sample Arabic traffic corpus. The corpus consists of sentences describing various traffic scenarios. The goal of the CBOW model is to predict a target word based on its surrounding context words."
      ]
    },
    {
      "cell_type": "markdown",
      "metadata": {
        "id": "BmX5AlBspz6g"
      },
      "source": [
        "# Importing Required Libraries"
      ]
    },
    {
      "cell_type": "markdown",
      "metadata": {
        "id": "S6Ba2ibzpydu"
      },
      "source": [
        "In this step, we import the necessary libraries to build and train the Continuous Bag of Words (CBOW) model.\n",
        "\n",
        "- **TensorFlow and Keras**: Used to build the neural network model, including the layers like `Embedding`, `Dense`, and `Lambda`.\n",
        "- **Tokenizer**: A utility from Keras for tokenizing and processing text data.\n",
        "- **NumPy**: Used for handling numerical operations, particularly for processing arrays and data manipulation.\n",
        "\n",
        "These libraries will provide the essential tools for text preprocessing and model development in the upcoming steps.\n",
        "\n",
        "Add more if needed!\n"
      ]
    },
    {
      "cell_type": "code",
      "execution_count": 1,
      "metadata": {
        "id": "vLFR0MF1p2Y2"
      },
      "outputs": [],
      "source": [
        "import numpy as np\n",
        "import tensorflow as tf\n",
        "from tensorflow.keras.models import Model\n",
        "from tensorflow.keras.layers import Embedding, Dense, Lambda, Input\n",
        "from tensorflow.keras.preprocessing.text import Tokenizer\n",
        "from tensorflow.keras.preprocessing.sequence import pad_sequences\n",
        "from tensorflow.keras.utils import to_categorical"
      ]
    },
    {
      "cell_type": "markdown",
      "metadata": {
        "id": "-LHg8WazpVFL"
      },
      "source": [
        "# Preparing the Corpus"
      ]
    },
    {
      "cell_type": "markdown",
      "metadata": {
        "id": "aXDrgRcvoliV"
      },
      "source": [
        "In this step, we initialize the corpus that will be used for training the Continuous Bag of Words (CBOW) model. The corpus consists of Arabic sentences, each of which describes different traffic scenarios.\n",
        "\n",
        "- **Corpus**: A collection of traffic-related sentences in Arabic.\n",
        "\n",
        "This step sets up the text data that we will use in the upcoming stages of tokenization and model training."
      ]
    },
    {
      "cell_type": "code",
      "execution_count": 4,
      "metadata": {
        "id": "qEQJL-CNjjvO"
      },
      "outputs": [],
      "source": [
        "corpus = [\n",
        "    \"الطريق مزدحم اليوم بسبب الحادث المروري الذي حدث صباحاً ويؤدي إلى تأخير كبير في الوصول\",\n",
        "    \"كان الطريق مزدحما للغاية والسيارات متوقفة تقريباً نتيجة الازدحام الشديد والحركة بطيئة جداً ولا تتحسن\",\n",
        "    \"أنا أحب الذهاب إلى السوق في الصباح الباكر لتفادي الازدحام وشراء الخضروات الطازجة دون الانتظار في الطريق\",\n",
        "    \"السيارات بطيئة بسبب الازدحام المروري في الشارع الرئيسي والتأخير في حركة المرور خلال ساعات الذروة\",\n",
        "    \"هناك ازدحام مروري في الشارع بسبب أعمال البناء والحفريات التي تعطل حركة السيارات وتتسبب في تأخير كبير\",\n",
        "    \"ازدحام السيارات يزداد في المساء عندما يبدأ الجميع بالعودة إلى منازلهم من العمل وتتوقف حركة المرور بالكامل\",\n",
        "    \"الطريق السريع يشهد ازدحاما مستمرا خلال فترة الظهيرة بسبب الشاحنات الكبيرة التي تبطئ حركة السير\",\n",
        "    \"الحافلات والسيارات عالقة في الازدحام المروري في المنطقة التجارية مما يؤدي إلى تأخير وصول الناس إلى وجهاتهم\",\n",
        "    \"حركة المرور مزدحمة اليوم بسبب الفعاليات التي تقام في وسط المدينة مما يزيد من صعوبة الوصول إلى هناك\",\n",
        "    \"كان من الصعب جدا القيادة على الطريق الرئيسي اليوم بسبب الازدحام الخانق الذي استمر طوال اليوم\",\n",
        "    \"الطريق إلى المطار مزدحم اليوم بسبب الحوادث المتكررة والتأخيرات الكبيرة في حركة المرور على الطريق السريع\",\n",
        "    \"الشارع مزدحم بالسيارات والحافلات الكبيرة مما يجعل التنقل بطيئًا جدًا ويزيد من وقت الوصول إلى العمل\",\n",
        "    \"ازدحام السيارات في المدينة أصبح مشكلة كبيرة خاصة خلال ساعات الذروة حيث يصعب التحرك بسرعة\",\n",
        "    \"تفاقم الازدحام في الطرق الجانبية بسبب إغلاق الطريق الرئيسي المؤدي إلى وسط المدينة لصيانة الجسر\",\n",
        "    \"ازدحام مروري خانق يواجه السكان يوميًا خلال تنقلهم من وإلى العمل على الطرق السريعة المؤدية إلى المدينة\",\n",
        "    \"التأخيرات المرورية اليوم ناجمة عن سوء الأحوال الجوية والضباب الذي يعيق الرؤية ويبطئ حركة السيارات\",\n",
        "    \"حوادث السير المتكررة على الطريق الزراعي تؤدي إلى ازدحام مروري شديد وتأخير كبير في وصول السيارات\",\n",
        "    \"كانت حركة السير اليوم غير منتظمة بسبب تنظيم حدث رياضي كبير أدى إلى إغلاق بعض الشوارع الرئيسية\",\n",
        "    \"الأعمال الإنشائية في الشارع الرئيسي تسببت في اختناق مروري كامل وتباطؤ في حركة السيارات خلال النهار\",\n",
        "    \"تراكم السيارات عند تقاطع الطرق الرئيسية أدى إلى ازدحام شديد وزيادة كبيرة في مدة الانتظار للوصول إلى الجهة المطلوبة\"\n",
        "]"
      ]
    },
    {
      "cell_type": "markdown",
      "metadata": {
        "id": "TtAp6KPlqBzA"
      },
      "source": [
        "# Defining Vocabulary and Model Parameters"
      ]
    },
    {
      "cell_type": "markdown",
      "metadata": {
        "id": "EOPRl8IfqAHo"
      },
      "source": [
        "In this step, we define key parameters that will be used to configure the CBOW model.\n",
        "\n",
        "- **Vocabulary size**: We calculate the size of the vocabulary based on the number of unique words in the corpus. The `vocab_size` represents the total number of unique tokens (words) in the dataset plus one for padding.\n",
        "  \n",
        "- **Embedding size**: The `embedding_size` defines the dimensionality of the word embeddings. In this case, we set the embedding size to 10, meaning each word will be represented as a 10-dimensional vector in the embedding layer.\n",
        "\n",
        "- **Window size**: The `window_size` defines how many words to the left and right of the target word are considered as context. Here, a window size of 2 means that two words before and two words after the target word will be used as context.\n",
        "\n",
        "These parameters will play an essential role in shaping the CBOW model architecture.\n"
      ]
    },
    {
      "cell_type": "code",
      "execution_count": 5,
      "metadata": {},
      "outputs": [],
      "source": [
        "tokenizer = Tokenizer()\n",
        "tokenizer.fit_on_texts(corpus)\n",
        "vocab_size = len(tokenizer.word_index) + 1  \n",
        "\n",
        "embedding_size = 10  \n",
        "window_size = 2  "
      ]
    },
    {
      "cell_type": "code",
      "execution_count": 6,
      "metadata": {
        "id": "icwJ4As2qEkP"
      },
      "outputs": [],
      "source": [
        "def generate_context_target_pairs(tokenizer, corpus, window_size):\n",
        "    sequences = tokenizer.texts_to_sequences(corpus)\n",
        "    X = []\n",
        "    y = []\n",
        "    for seq in sequences:\n",
        "        for i in range(window_size, len(seq) - window_size):\n",
        "            context = seq[i - window_size:i] + seq[i + 1:i + window_size + 1]\n",
        "            target = seq[i]\n",
        "            X.append(context)\n",
        "            y.append(target)\n",
        "    return np.array(X), np.array(y)\n",
        "\n",
        "X, y = generate_context_target_pairs(tokenizer, corpus, window_size)\n",
        "y = to_categorical(y, vocab_size) "
      ]
    },
    {
      "cell_type": "markdown",
      "metadata": {
        "id": "w6b35855qQqP"
      },
      "source": [
        "# Preparing Context-Target Pairs for CBOW"
      ]
    },
    {
      "cell_type": "markdown",
      "metadata": {
        "id": "589xXbYmqEuR"
      },
      "source": [
        "In this step, we generate the context-target pairs from the tokenized sequences to train the CBOW model.\n",
        "\n",
        "- **Context words**: For each word in a sequence, the surrounding words (within the window size) are considered as context. The context consists of the words immediately before and after the target word.\n",
        "  \n",
        "- **Target word**: The word in the middle of the context window is treated as the target word that the model will learn to predict.\n",
        "\n",
        "We iterate through each sequence, collecting the context words and corresponding target words:\n",
        "- For each word in a sequence, we gather the surrounding words based on the defined window size.\n",
        "- The middle word is the target, and the surrounding words form the context.\n",
        "\n",
        "Finally:\n",
        "- **`X`**: An array of context words.\n",
        "- **`y`**: The target words are one-hot encoded, which means they are converted into a categorical format where each word is represented as a vector of length equal to the vocabulary size.\n",
        "\n",
        "These context-target pairs will be used to train the CBOW model to predict a target word based on its context.\n"
      ]
    },
    {
      "cell_type": "markdown",
      "metadata": {
        "id": "hgxmB4fZqU1A"
      },
      "source": [
        "# Building and Training the CBOW Model"
      ]
    },
    {
      "cell_type": "markdown",
      "metadata": {
        "id": "QkXe33DgqSvD"
      },
      "source": [
        "In this step, we build and train the Continuous Bag of Words (CBOW) model using the context-target pairs created earlier.\n",
        "\n",
        "1. **Model architecture**:\n",
        "   - **Embedding layer**: This layer transforms the input context words into dense vector representations (embeddings) of size defined by `embedding_size`. The `input_dim` is set to the vocabulary size, and the `input_length` is twice the window size (since context consists of words from both sides of the target).\n",
        "   \n",
        "   - **Lambda layer**: This layer computes the mean of the context word embeddings. It averages the embeddings of the context words to generate a single representation that will be used to predict the target word.\n",
        "   \n",
        "   - **Dense layer**: This fully connected layer outputs a probability distribution over the vocabulary, using the softmax activation function. It predicts the most likely target word based on the context word embeddings.\n",
        "\n",
        "2. **Compilation**:\n",
        "   The model is compiled using the Adam optimizer and categorical cross-entropy as the loss function, which is suitable for multi-class classification tasks. Accuracy is used as a metric to evaluate the model's performance during training.\n",
        "\n",
        "3. **Training the model**:\n",
        "   The model is trained on the context-target pairs for 500 epochs. During each epoch, the model learns to predict the target word based on the context, refining its weights to improve accuracy.\n",
        "\n",
        "4. **Saving the model weights**:\n",
        "   After training, the model weights are saved to a file (`cbow_model.weights.h5`) for future use. This allows us to load the trained model later without retraining.\n",
        "\n",
        "By the end of this step, the CBOW model will have learned to predict target words based on their surrounding context from the given corpus."
      ]
    },
    {
      "cell_type": "code",
      "execution_count": 10,
      "metadata": {
        "id": "c8c1MkYOqSfd"
      },
      "outputs": [],
      "source": [
        "def cbow_model(vocab_size, embedding_size, window_size):\n",
        "\n",
        "    input_context = Input(shape=(2 * window_size,))\n",
        "    embedding = Embedding(input_dim=vocab_size, output_dim=embedding_size, input_length=2 * window_size)(input_context)\n",
        "\n",
        "    avg_embedding = Lambda(lambda x: tf.reduce_mean(x, axis=1))(embedding)\n",
        "\n",
        "    output = Dense(vocab_size, activation='softmax')(avg_embedding)\n",
        "\n",
        "    model = Model(inputs=input_context, outputs=output)\n",
        "\n",
        " #compile\n",
        "    model.compile(optimizer='adam', loss='categorical_crossentropy', metrics=['accuracy'])\n",
        "\n",
        "    return model\n",
        "\n"
      ]
    },
    {
      "cell_type": "code",
      "execution_count": 9,
      "metadata": {
        "id": "vL3UZZe3qhhh"
      },
      "outputs": [
        {
          "data": {
            "text/html": [
              "<pre style=\"white-space:pre;overflow-x:auto;line-height:normal;font-family:Menlo,'DejaVu Sans Mono',consolas,'Courier New',monospace\"><span style=\"font-weight: bold\">Model: \"functional_1\"</span>\n",
              "</pre>\n"
            ],
            "text/plain": [
              "\u001b[1mModel: \"functional_1\"\u001b[0m\n"
            ]
          },
          "metadata": {},
          "output_type": "display_data"
        },
        {
          "data": {
            "text/html": [
              "<pre style=\"white-space:pre;overflow-x:auto;line-height:normal;font-family:Menlo,'DejaVu Sans Mono',consolas,'Courier New',monospace\">┏━━━━━━━━━━━━━━━━━━━━━━━━━━━━━━━━━┳━━━━━━━━━━━━━━━━━━━━━━━━┳━━━━━━━━━━━━━━━┓\n",
              "┃<span style=\"font-weight: bold\"> Layer (type)                    </span>┃<span style=\"font-weight: bold\"> Output Shape           </span>┃<span style=\"font-weight: bold\">       Param # </span>┃\n",
              "┡━━━━━━━━━━━━━━━━━━━━━━━━━━━━━━━━━╇━━━━━━━━━━━━━━━━━━━━━━━━╇━━━━━━━━━━━━━━━┩\n",
              "│ input_layer_1 (<span style=\"color: #0087ff; text-decoration-color: #0087ff\">InputLayer</span>)      │ (<span style=\"color: #00d7ff; text-decoration-color: #00d7ff\">None</span>, <span style=\"color: #00af00; text-decoration-color: #00af00\">4</span>)              │             <span style=\"color: #00af00; text-decoration-color: #00af00\">0</span> │\n",
              "├─────────────────────────────────┼────────────────────────┼───────────────┤\n",
              "│ embedding_1 (<span style=\"color: #0087ff; text-decoration-color: #0087ff\">Embedding</span>)         │ (<span style=\"color: #00d7ff; text-decoration-color: #00d7ff\">None</span>, <span style=\"color: #00af00; text-decoration-color: #00af00\">4</span>, <span style=\"color: #00af00; text-decoration-color: #00af00\">10</span>)          │         <span style=\"color: #00af00; text-decoration-color: #00af00\">1,790</span> │\n",
              "├─────────────────────────────────┼────────────────────────┼───────────────┤\n",
              "│ lambda_1 (<span style=\"color: #0087ff; text-decoration-color: #0087ff\">Lambda</span>)               │ (<span style=\"color: #00d7ff; text-decoration-color: #00d7ff\">None</span>, <span style=\"color: #00af00; text-decoration-color: #00af00\">10</span>)             │             <span style=\"color: #00af00; text-decoration-color: #00af00\">0</span> │\n",
              "├─────────────────────────────────┼────────────────────────┼───────────────┤\n",
              "│ dense_1 (<span style=\"color: #0087ff; text-decoration-color: #0087ff\">Dense</span>)                 │ (<span style=\"color: #00d7ff; text-decoration-color: #00d7ff\">None</span>, <span style=\"color: #00af00; text-decoration-color: #00af00\">179</span>)            │         <span style=\"color: #00af00; text-decoration-color: #00af00\">1,969</span> │\n",
              "└─────────────────────────────────┴────────────────────────┴───────────────┘\n",
              "</pre>\n"
            ],
            "text/plain": [
              "┏━━━━━━━━━━━━━━━━━━━━━━━━━━━━━━━━━┳━━━━━━━━━━━━━━━━━━━━━━━━┳━━━━━━━━━━━━━━━┓\n",
              "┃\u001b[1m \u001b[0m\u001b[1mLayer (type)                   \u001b[0m\u001b[1m \u001b[0m┃\u001b[1m \u001b[0m\u001b[1mOutput Shape          \u001b[0m\u001b[1m \u001b[0m┃\u001b[1m \u001b[0m\u001b[1m      Param #\u001b[0m\u001b[1m \u001b[0m┃\n",
              "┡━━━━━━━━━━━━━━━━━━━━━━━━━━━━━━━━━╇━━━━━━━━━━━━━━━━━━━━━━━━╇━━━━━━━━━━━━━━━┩\n",
              "│ input_layer_1 (\u001b[38;5;33mInputLayer\u001b[0m)      │ (\u001b[38;5;45mNone\u001b[0m, \u001b[38;5;34m4\u001b[0m)              │             \u001b[38;5;34m0\u001b[0m │\n",
              "├─────────────────────────────────┼────────────────────────┼───────────────┤\n",
              "│ embedding_1 (\u001b[38;5;33mEmbedding\u001b[0m)         │ (\u001b[38;5;45mNone\u001b[0m, \u001b[38;5;34m4\u001b[0m, \u001b[38;5;34m10\u001b[0m)          │         \u001b[38;5;34m1,790\u001b[0m │\n",
              "├─────────────────────────────────┼────────────────────────┼───────────────┤\n",
              "│ lambda_1 (\u001b[38;5;33mLambda\u001b[0m)               │ (\u001b[38;5;45mNone\u001b[0m, \u001b[38;5;34m10\u001b[0m)             │             \u001b[38;5;34m0\u001b[0m │\n",
              "├─────────────────────────────────┼────────────────────────┼───────────────┤\n",
              "│ dense_1 (\u001b[38;5;33mDense\u001b[0m)                 │ (\u001b[38;5;45mNone\u001b[0m, \u001b[38;5;34m179\u001b[0m)            │         \u001b[38;5;34m1,969\u001b[0m │\n",
              "└─────────────────────────────────┴────────────────────────┴───────────────┘\n"
            ]
          },
          "metadata": {},
          "output_type": "display_data"
        },
        {
          "data": {
            "text/html": [
              "<pre style=\"white-space:pre;overflow-x:auto;line-height:normal;font-family:Menlo,'DejaVu Sans Mono',consolas,'Courier New',monospace\"><span style=\"font-weight: bold\"> Total params: </span><span style=\"color: #00af00; text-decoration-color: #00af00\">3,759</span> (14.68 KB)\n",
              "</pre>\n"
            ],
            "text/plain": [
              "\u001b[1m Total params: \u001b[0m\u001b[38;5;34m3,759\u001b[0m (14.68 KB)\n"
            ]
          },
          "metadata": {},
          "output_type": "display_data"
        },
        {
          "data": {
            "text/html": [
              "<pre style=\"white-space:pre;overflow-x:auto;line-height:normal;font-family:Menlo,'DejaVu Sans Mono',consolas,'Courier New',monospace\"><span style=\"font-weight: bold\"> Trainable params: </span><span style=\"color: #00af00; text-decoration-color: #00af00\">3,759</span> (14.68 KB)\n",
              "</pre>\n"
            ],
            "text/plain": [
              "\u001b[1m Trainable params: \u001b[0m\u001b[38;5;34m3,759\u001b[0m (14.68 KB)\n"
            ]
          },
          "metadata": {},
          "output_type": "display_data"
        },
        {
          "data": {
            "text/html": [
              "<pre style=\"white-space:pre;overflow-x:auto;line-height:normal;font-family:Menlo,'DejaVu Sans Mono',consolas,'Courier New',monospace\"><span style=\"font-weight: bold\"> Non-trainable params: </span><span style=\"color: #00af00; text-decoration-color: #00af00\">0</span> (0.00 B)\n",
              "</pre>\n"
            ],
            "text/plain": [
              "\u001b[1m Non-trainable params: \u001b[0m\u001b[38;5;34m0\u001b[0m (0.00 B)\n"
            ]
          },
          "metadata": {},
          "output_type": "display_data"
        },
        {
          "name": "stdout",
          "output_type": "stream",
          "text": [
            "Epoch 1/2\n",
            "\u001b[1m8/8\u001b[0m \u001b[32m━━━━━━━━━━━━━━━━━━━━\u001b[0m\u001b[37m\u001b[0m \u001b[1m0s\u001b[0m 538us/step - accuracy: 0.0047 - loss: 5.1878    \n",
            "Epoch 2/2\n",
            "\u001b[1m8/8\u001b[0m \u001b[32m━━━━━━━━━━━━━━━━━━━━\u001b[0m\u001b[37m\u001b[0m \u001b[1m0s\u001b[0m 484us/step - accuracy: 0.0423 - loss: 5.1834  \n"
          ]
        },
        {
          "data": {
            "text/plain": [
              "<keras.src.callbacks.history.History at 0x30d8a6690>"
            ]
          },
          "execution_count": 9,
          "metadata": {},
          "output_type": "execute_result"
        }
      ],
      "source": [
        "model = cbow_model(vocab_size, embedding_size, window_size)\n",
        "model.summary()\n",
        "\n",
        "\n",
        "model.fit(X, y, epochs=2)"
      ]
    },
    {
      "cell_type": "markdown",
      "metadata": {
        "id": "mLodiHWkqaL4"
      },
      "source": [
        "# Predicting a Word Using the Trained CBOW Model"
      ]
    },
    {
      "cell_type": "markdown",
      "metadata": {
        "id": "_SRP_chYqYKS"
      },
      "source": [
        "In this step, we define a function to predict a word based on a given context using the trained CBOW model.\n",
        "\n",
        "1. **Function: `predict_word`**:\n",
        "   - **Input**: The function takes a list of context words as input. The number of context words should match the expected size (2 times the window size).\n",
        "   - **Context sequence conversion**: The input context words are tokenized into a sequence of integers using the same tokenizer that was used during training.\n",
        "   - **Input validation**: The function checks whether the length of the context sequence matches the expected size (2 times the window size). If not, it prints an error message.\n",
        "   - **Prediction**: The tokenized context is fed into the trained CBOW model, which predicts the probability distribution over the vocabulary.\n",
        "   - **Retrieve predicted word**: The predicted word is the one with the highest probability. The function retrieves the word corresponding to the predicted index from the tokenizer's word index.\n",
        "\n",
        "2. **Example**:\n",
        "   - We provide a sample context: `['الحادث', 'بسبب', 'مزدحم', 'الطريق']`.\n",
        "   - The function predicts the word that fits best in this context, based on the model's learned weights.\n",
        "   - The predicted word is printed along with the input context.\n",
        "\n",
        "This function allows us to test the CBOW model by predicting words based on their surrounding context from the corpus."
      ]
    },
    {
      "cell_type": "code",
      "execution_count": 16,
      "metadata": {
        "id": "ykhSWJY0qgCI"
      },
      "outputs": [],
      "source": [
        "def predict_word(model, tokenizer, context_words, window_size):\n",
        "\n",
        "    context_sequence = tokenizer.texts_to_sequences([context_words])\n",
        "\n",
        "    if len(context_sequence[0]) != 2 * window_size:\n",
        "        print(f\"Error: Expected {2 * window_size} context words.\")\n",
        "        return None\n",
        "\n",
        "    prediction = model.predict(np.array(context_sequence))\n",
        "    predicted_index = np.argmax(prediction)\n",
        "\n",
        "    predicted_word = tokenizer.index_word[predicted_index]\n",
        "    return predicted_word\n"
      ]
    },
    {
      "cell_type": "code",
      "execution_count": 17,
      "metadata": {},
      "outputs": [
        {
          "name": "stdout",
          "output_type": "stream",
          "text": [
            "\u001b[1m1/1\u001b[0m \u001b[32m━━━━━━━━━━━━━━━━━━━━\u001b[0m\u001b[37m\u001b[0m \u001b[1m0s\u001b[0m 9ms/step\n",
            "Predicted word: المروري\n"
          ]
        }
      ],
      "source": [
        "\n",
        "context = ['بسبب', 'اليوم', 'مزدحم', 'الطريق']\n",
        "predicted_word = predict_word(model, tokenizer, context, window_size)\n",
        "print(f\"Predicted word: {predicted_word}\")"
      ]
    },
    {
      "cell_type": "code",
      "execution_count": 28,
      "metadata": {},
      "outputs": [
        {
          "name": "stdout",
          "output_type": "stream",
          "text": [
            "\u001b[1m1/1\u001b[0m \u001b[32m━━━━━━━━━━━━━━━━━━━━\u001b[0m\u001b[37m\u001b[0m \u001b[1m0s\u001b[0m 9ms/step\n",
            "Predicted word: بسبب\n"
          ]
        }
      ],
      "source": [
        "\n",
        "context = ['اليوم', 'مزدحمة', 'المرور', 'حركة']\n",
        "predicted_word = predict_word(model, tokenizer, context, window_size)\n",
        "print(f\"Predicted word: {predicted_word}\")"
      ]
    },
    {
      "cell_type": "code",
      "execution_count": 29,
      "metadata": {},
      "outputs": [
        {
          "name": "stdout",
          "output_type": "stream",
          "text": [
            "\u001b[1m1/1\u001b[0m \u001b[32m━━━━━━━━━━━━━━━━━━━━\u001b[0m\u001b[37m\u001b[0m \u001b[1m0s\u001b[0m 9ms/step\n",
            "Predicted word: مما\n"
          ]
        }
      ],
      "source": [
        "context = ['الحادث', 'بسبب', 'مزدحم', 'الطريق']\n",
        "predicted_word = predict_word(model, tokenizer, context, window_size)\n",
        "print(f\"Predicted word: {predicted_word}\")"
      ]
    }
  ],
  "metadata": {
    "colab": {
      "provenance": []
    },
    "kernelspec": {
      "display_name": "Python 3",
      "name": "python3"
    },
    "language_info": {
      "codemirror_mode": {
        "name": "ipython",
        "version": 3
      },
      "file_extension": ".py",
      "mimetype": "text/x-python",
      "name": "python",
      "nbconvert_exporter": "python",
      "pygments_lexer": "ipython3",
      "version": "3.12.4"
    }
  },
  "nbformat": 4,
  "nbformat_minor": 0
}
